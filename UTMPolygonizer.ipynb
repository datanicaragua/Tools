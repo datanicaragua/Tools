{
  "cells": [
    {
      "cell_type": "markdown",
      "metadata": {
        "id": "view-in-github",
        "colab_type": "text"
      },
      "source": [
        "<a href=\"https://colab.research.google.com/github/datanicaragua/Tools/blob/main/UTMPolygonizer.ipynb\" target=\"_parent\"><img src=\"https://colab.research.google.com/assets/colab-badge.svg\" alt=\"Open In Colab\"/></a>"
      ]
    },
    {
      "cell_type": "markdown",
      "metadata": {
        "id": "BpuT87-b9pBN"
      },
      "source": [
        "# UTMPolygonizer\n",
        "\n",
        "# Versión: 1.0\n",
        "# Licencia: [MIT](https://choosealicense.com/licenses/mit/)\n",
        "Copyright (c) 2024 [DataNicaragua](https://datanicaragua.com/), [Gustavo Ernesto Martinez Cardenas](https://linkedin.com/in/gustavoernestom)\n",
        "\n",
        "---\n",
        "\n",
        "# **GENERAR POLIGONO A PARTIR DE PUNTOS **\n",
        "*(Waypoints to Polygons)*: CSV/Excel to Geojson\n",
        "\n",
        "# **INSTRUCCIONES**"
      ]
    },
    {
      "cell_type": "markdown",
      "metadata": {
        "id": "_S91Ir46IJku"
      },
      "source": [
        "# PASO 1: FORMATO"
      ]
    },
    {
      "cell_type": "markdown",
      "source": [],
      "metadata": {
        "id": "dNmISucIFqjl"
      }
    },
    {
      "cell_type": "markdown",
      "metadata": {
        "id": "TfUPhoX6-Ofl"
      },
      "source": [
        "Antes de cargar su archivo con puntos de waypoint en formato UTM, asegúrese de que cumpla con el siguiente formato:\n",
        "\n",
        "La tabla debe contener las siguientes columnas: Vertice, Easting, Northing, Zone.\n",
        "\n",
        "1. Vertice: debe contener números enteros en orden secuencial, comenzando en 1 y terminando en n, donde 1 es el punto de inicio y n es el punto final.\n",
        "2. Easting (X): debe contener las coordenadas este en metros.\n",
        "3. Northing (Y): debe contener las coordenadas norte en metros.\n",
        "4. Zone: debe contener la zona UTM, que para Nicaragua es la 16N. Esta misma zona es utilizada en parte de Centroamérica y otras regiones que estén dentro del mismo rango longitudinal de la zona 16N del sistema UTM.\n",
        "\n",
        "Un ejemplo de cómo deben lucir sus datos en el archivo es el siguiente:\n",
        "\n",
        "| Vertice | Easting | Northing | Zone |\n",
        "|---------|---------|----------|------|\n",
        "| 1       | 500000  | 1300000  | 16N  |\n",
        "| 2       | 500050  | 1300050  | 16N  |\n",
        "| ...     | ...     | ...      | ...  |\n",
        "| n       | 500100  | 1300100  | 16N  |\n",
        "\n",
        "\n",
        "\n",
        "Asegúrese de que su archivo está en formato CSV o Excel antes de subirlo."
      ]
    },
    {
      "cell_type": "markdown",
      "metadata": {
        "id": "XB9tQCFdHCO-"
      },
      "source": [
        "# PASO 2: LIBRERIAS\n",
        "Haga clic para ejecutar la instalación de librerías y el entorno necesario"
      ]
    },
    {
      "cell_type": "code",
      "execution_count": null,
      "metadata": {
        "id": "PoJrXV_QCo3j"
      },
      "outputs": [],
      "source": [
        "# @title\n",
        "!pip install geopandas\n",
        "\n",
        "import io\n",
        "from io import BytesIO  # Asegurarse de incluir este import\n",
        "import pandas as pd\n",
        "import geopandas as gpd\n",
        "from shapely.geometry import Polygon\n",
        "from google.colab import files"
      ]
    },
    {
      "cell_type": "markdown",
      "metadata": {
        "id": "nY30BkbkHvXu"
      },
      "source": [
        "# PASO 3: UPLOAD FILE\n",
        "Suba o cargue el archivo CSV o Excel."
      ]
    },
    {
      "cell_type": "code",
      "execution_count": null,
      "metadata": {
        "id": "xZ-nOyQIDMJ0"
      },
      "outputs": [],
      "source": [
        "# @title\n",
        "uploaded = files.upload()\n",
        "\n",
        "# Función para procesar el archivo subido\n",
        "def process_uploaded_file(uploaded):\n",
        "    for filename, content in uploaded.items():\n",
        "        if filename.endswith('.csv'):\n",
        "            df = pd.read_csv(BytesIO(content))\n",
        "        elif filename.endswith(('.xls', '.xlsx')):\n",
        "            df = pd.read_excel(BytesIO(content))\n",
        "        else:\n",
        "            raise ValueError(\"El archivo proporcionado no es ni CSV ni Excel.\")\n",
        "        return df\n",
        "\n",
        "df = process_uploaded_file(uploaded)"
      ]
    },
    {
      "cell_type": "markdown",
      "metadata": {
        "id": "egl-FNF4Ieg4"
      },
      "source": [
        "# PASO 4: GENERAR POLIGONO"
      ]
    },
    {
      "cell_type": "code",
      "execution_count": null,
      "metadata": {
        "colab": {
          "background_save": true
        },
        "id": "I9DTH_TNuxlQ"
      },
      "outputs": [],
      "source": [
        "# Define la proyección UTM Zona 16N\n",
        "utm_zone_16n = \"EPSG:32616\"\n",
        "\n",
        "# Procesa los datos para crear el GeoDataFrame\n",
        "gdf_points = gpd.GeoDataFrame(\n",
        "    df,\n",
        "    geometry=gpd.points_from_xy(df.Easting, df.Northing),\n",
        "    crs=utm_zone_16n\n",
        ")\n",
        "\n",
        "# Genera el polígono a partir de los puntos\n",
        "polygon = Polygon([(point.x, point.y) for point in gdf_points.geometry])\n",
        "\n",
        "# Crea un GeoDataFrame para el polígono\n",
        "gdf_polygon = gpd.GeoDataFrame(index=[0], crs=utm_zone_16n, geometry=[polygon])\n",
        "\n",
        "# Calcula estadísticas para el polígono UTM\n",
        "area_sq_meters = polygon.area\n",
        "area_hectares = area_sq_meters / 10000\n",
        "perimeter_meters = polygon.length\n",
        "minx, miny, maxx, maxy = polygon.bounds\n",
        "centroid = polygon.centroid\n",
        "\n",
        "# Agrega estadísticas al GeoDataFrame del polígono\n",
        "gdf_polygon.at[0, 'Area_sq_m'] = area_sq_meters\n",
        "gdf_polygon.at[0, 'Area_ha'] = area_hectares\n",
        "gdf_polygon.at[0, 'Perimeter_m'] = perimeter_meters\n",
        "gdf_polygon.at[0, 'Min_X'] = minx\n",
        "gdf_polygon.at[0, 'Max_X'] = maxx\n",
        "gdf_polygon.at[0, 'Min_Y'] = miny\n",
        "gdf_polygon.at[0, 'Max_Y'] = maxy\n",
        "gdf_polygon.at[0, 'Centroid_X'] = centroid.x\n",
        "gdf_polygon.at[0, 'Centroid_Y'] = centroid.y\n",
        "\n",
        "# Imprimir estadísticas\n",
        "print(\"Estadísticas del polígono en UTM:\")\n",
        "print(f\"Área: {area_sq_meters} m² ({area_hectares} hectáreas)\")\n",
        "print(f\"Perímetro: {perimeter_meters} m\")\n",
        "print(f\"Límites: Mínimo X (Este): {minx} m, Máximo X (Este): {maxx} m\")\n",
        "print(f\"Mínimo Y (Norte): {miny} m, Máximo Y (Norte): {maxy} m\")\n",
        "print(f\"Centroide: Este {centroid.x}, Norte {centroid.y}\")\n",
        "\n",
        "# Combina puntos y polígonos\n",
        "gdf_combined = pd.concat([gdf_points, gdf_polygon], ignore_index=True)\n",
        "\n",
        "# Convertir el GeoDataFrame UTM a WGS84 para la exportación a GeoJSON\n",
        "gdf_combined_wgs84 = gdf_combined.to_crs(epsg=4326)\n",
        "\n",
        "# Solicitar al usuario que nombre el archivo GeoJSON\n",
        "print(\"Por favor, ingrese un nombre para el archivo GeoJSON (sin extensión):\")\n",
        "output_filename = input() + '.geojson'\n",
        "\n",
        "# Verificar que el usuario ha ingresado un nombre de archivo\n",
        "if not output_filename.strip('.geojson'):\n",
        "    output_filename = \"output.geojson\"\n",
        "\n",
        "# Exporta a GeoJSON\n",
        "gdf_combined_wgs84.to_file(output_filename, driver='GeoJSON')\n",
        "\n",
        "# Proporciona un enlace para descargar el archivo GeoJSON generado\n",
        "files.download(output_filename)\n",
        "\n",
        "# Informar al usuario sobre la descarga\n",
        "print(f\"Se está generando el archivo GeoJSON: {output_filename} para su descarga.\")\n",
        "print(\"El archivo GeoJSON se descargará en la carpeta de descargas predeterminada de su navegador o en la ubicación que haya especificado en la configuración de descargas de su navegador.\")\n",
        "\n"
      ]
    }
  ],
  "metadata": {
    "colab": {
      "toc_visible": true,
      "provenance": [],
      "authorship_tag": "ABX9TyOWIoUor38rxrq5C64I/WZF",
      "include_colab_link": true
    },
    "kernelspec": {
      "display_name": "Python 3",
      "name": "python3"
    },
    "language_info": {
      "name": "python"
    }
  },
  "nbformat": 4,
  "nbformat_minor": 0
}