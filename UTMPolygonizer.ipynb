{
  "cells": [
    {
      "cell_type": "markdown",
      "metadata": {
        "id": "view-in-github",
        "colab_type": "text"
      },
      "source": [
        "<a href=\"https://colab.research.google.com/github/datanicaragua/Tools/blob/main/UTMPolygonizer.ipynb\" target=\"_parent\"><img src=\"https://colab.research.google.com/assets/colab-badge.svg\" alt=\"Open In Colab\"/></a>"
      ]
    },
    {
      "cell_type": "markdown",
      "metadata": {
        "id": "BpuT87-b9pBN"
      },
      "source": [
        "# UTMPolygonizer\n",
        "\n",
        "# Versión: 1.0\n",
        "# Autor: Gustavo Ernesto Martinez Cardenas\n",
        "# https://datanicaragua.com\n",
        "# Licencia: [MIT](https://choosealicense.com/licenses/mit/)\n",
        "\n",
        "---\n",
        "\n",
        "# **GENERAR POLIGONO A PARTIR DE PUNTOS **\n",
        "*(Waypoints to Polygons)*: CSV/Excel to Geojson\n",
        "\n",
        "# **INSTRUCCIONES**"
      ]
    },
    {
      "cell_type": "markdown",
      "metadata": {
        "id": "_S91Ir46IJku"
      },
      "source": [
        "# PASO 1: FORMATO"
      ]
    },
    {
      "cell_type": "markdown",
      "source": [],
      "metadata": {
        "id": "dNmISucIFqjl"
      }
    },
    {
      "cell_type": "markdown",
      "metadata": {
        "id": "TfUPhoX6-Ofl"
      },
      "source": [
        "Antes de cargar su archivo con puntos de waypoint en formato UTM, asegúrese de que cumpla con el siguiente formato:\n",
        "\n",
        "La tabla debe contener las siguientes columnas: Vertice, Easting, Northing, Zone.\n",
        "\n",
        "1. Vertice: debe contener números enteros en orden secuencial, comenzando en 1 y terminando en n, donde 1 es el punto de inicio y n es el punto final.\n",
        "2. Easting (X): debe contener las coordenadas este en metros.\n",
        "3. Northing (Y): debe contener las coordenadas norte en metros.\n",
        "4. Zone: debe contener la zona UTM, que para Nicaragua es la 16N. Esta misma zona es utilizada en parte de Centroamérica y otras regiones que estén dentro del mismo rango longitudinal de la zona 16N del sistema UTM.\n",
        "\n",
        "Un ejemplo de cómo deben lucir sus datos en el archivo es el siguiente:\n",
        "\n",
        "| Vertice | Easting | Northing | Zone |\n",
        "|---------|---------|----------|------|\n",
        "| 1       | 500000  | 1300000  | 16N  |\n",
        "| 2       | 500050  | 1300050  | 16N  |\n",
        "| ...     | ...     | ...      | ...  |\n",
        "| n       | 500100  | 1300100  | 16N  |\n",
        "\n",
        "\n",
        "\n",
        "Asegúrese de que su archivo está en formato CSV o Excel antes de subirlo."
      ]
    },
    {
      "cell_type": "markdown",
      "metadata": {
        "id": "XB9tQCFdHCO-"
      },
      "source": [
        "# PASO 2: LIBRERIAS\n",
        "Haga clic para ejecutar la instalación de librerías y el entorno necesario"
      ]
    },
    {
      "cell_type": "code",
      "execution_count": null,
      "metadata": {
        "colab": {
          "base_uri": "https://localhost:8080/"
        },
        "id": "PoJrXV_QCo3j",
        "outputId": "02fff080-44e5-42b5-8647-14c9d9503e4d"
      },
      "outputs": [
        {
          "name": "stdout",
          "output_type": "stream",
          "text": [
            "Requirement already satisfied: geopandas in /usr/local/lib/python3.10/dist-packages (0.13.2)\n",
            "Requirement already satisfied: fiona>=1.8.19 in /usr/local/lib/python3.10/dist-packages (from geopandas) (1.9.6)\n",
            "Requirement already satisfied: packaging in /usr/local/lib/python3.10/dist-packages (from geopandas) (24.0)\n",
            "Requirement already satisfied: pandas>=1.1.0 in /usr/local/lib/python3.10/dist-packages (from geopandas) (1.5.3)\n",
            "Requirement already satisfied: pyproj>=3.0.1 in /usr/local/lib/python3.10/dist-packages (from geopandas) (3.6.1)\n",
            "Requirement already satisfied: shapely>=1.7.1 in /usr/local/lib/python3.10/dist-packages (from geopandas) (2.0.3)\n",
            "Requirement already satisfied: attrs>=19.2.0 in /usr/local/lib/python3.10/dist-packages (from fiona>=1.8.19->geopandas) (23.2.0)\n",
            "Requirement already satisfied: certifi in /usr/local/lib/python3.10/dist-packages (from fiona>=1.8.19->geopandas) (2024.2.2)\n",
            "Requirement already satisfied: click~=8.0 in /usr/local/lib/python3.10/dist-packages (from fiona>=1.8.19->geopandas) (8.1.7)\n",
            "Requirement already satisfied: click-plugins>=1.0 in /usr/local/lib/python3.10/dist-packages (from fiona>=1.8.19->geopandas) (1.1.1)\n",
            "Requirement already satisfied: cligj>=0.5 in /usr/local/lib/python3.10/dist-packages (from fiona>=1.8.19->geopandas) (0.7.2)\n",
            "Requirement already satisfied: six in /usr/local/lib/python3.10/dist-packages (from fiona>=1.8.19->geopandas) (1.16.0)\n",
            "Requirement already satisfied: python-dateutil>=2.8.1 in /usr/local/lib/python3.10/dist-packages (from pandas>=1.1.0->geopandas) (2.8.2)\n",
            "Requirement already satisfied: pytz>=2020.1 in /usr/local/lib/python3.10/dist-packages (from pandas>=1.1.0->geopandas) (2023.4)\n",
            "Requirement already satisfied: numpy>=1.21.0 in /usr/local/lib/python3.10/dist-packages (from pandas>=1.1.0->geopandas) (1.25.2)\n"
          ]
        }
      ],
      "source": [
        "# @title\n",
        "!pip install geopandas\n",
        "\n",
        "import io\n",
        "from io import BytesIO  # Asegurarse de incluir este import\n",
        "import pandas as pd\n",
        "import geopandas as gpd\n",
        "from shapely.geometry import Polygon\n",
        "from google.colab import files"
      ]
    },
    {
      "cell_type": "markdown",
      "metadata": {
        "id": "nY30BkbkHvXu"
      },
      "source": [
        "# PASO 3: UPLOAD FILE\n",
        "Suba o cargue el archivo CSV o Excel."
      ]
    },
    {
      "cell_type": "code",
      "execution_count": null,
      "metadata": {
        "colab": {
          "base_uri": "https://localhost:8080/",
          "height": 386
        },
        "id": "xZ-nOyQIDMJ0",
        "outputId": "dfcb447c-f191-46ed-bd16-9b8f4f3a259a"
      },
      "outputs": [
        {
          "data": {
            "text/html": [
              "\n",
              "     <input type=\"file\" id=\"files-32c49df9-68cc-4add-9992-51881636fb24\" name=\"files[]\" multiple disabled\n",
              "        style=\"border:none\" />\n",
              "     <output id=\"result-32c49df9-68cc-4add-9992-51881636fb24\">\n",
              "      Upload widget is only available when the cell has been executed in the\n",
              "      current browser session. Please rerun this cell to enable.\n",
              "      </output>\n",
              "      <script>// Copyright 2017 Google LLC\n",
              "//\n",
              "// Licensed under the Apache License, Version 2.0 (the \"License\");\n",
              "// you may not use this file except in compliance with the License.\n",
              "// You may obtain a copy of the License at\n",
              "//\n",
              "//      http://www.apache.org/licenses/LICENSE-2.0\n",
              "//\n",
              "// Unless required by applicable law or agreed to in writing, software\n",
              "// distributed under the License is distributed on an \"AS IS\" BASIS,\n",
              "// WITHOUT WARRANTIES OR CONDITIONS OF ANY KIND, either express or implied.\n",
              "// See the License for the specific language governing permissions and\n",
              "// limitations under the License.\n",
              "\n",
              "/**\n",
              " * @fileoverview Helpers for google.colab Python module.\n",
              " */\n",
              "(function(scope) {\n",
              "function span(text, styleAttributes = {}) {\n",
              "  const element = document.createElement('span');\n",
              "  element.textContent = text;\n",
              "  for (const key of Object.keys(styleAttributes)) {\n",
              "    element.style[key] = styleAttributes[key];\n",
              "  }\n",
              "  return element;\n",
              "}\n",
              "\n",
              "// Max number of bytes which will be uploaded at a time.\n",
              "const MAX_PAYLOAD_SIZE = 100 * 1024;\n",
              "\n",
              "function _uploadFiles(inputId, outputId) {\n",
              "  const steps = uploadFilesStep(inputId, outputId);\n",
              "  const outputElement = document.getElementById(outputId);\n",
              "  // Cache steps on the outputElement to make it available for the next call\n",
              "  // to uploadFilesContinue from Python.\n",
              "  outputElement.steps = steps;\n",
              "\n",
              "  return _uploadFilesContinue(outputId);\n",
              "}\n",
              "\n",
              "// This is roughly an async generator (not supported in the browser yet),\n",
              "// where there are multiple asynchronous steps and the Python side is going\n",
              "// to poll for completion of each step.\n",
              "// This uses a Promise to block the python side on completion of each step,\n",
              "// then passes the result of the previous step as the input to the next step.\n",
              "function _uploadFilesContinue(outputId) {\n",
              "  const outputElement = document.getElementById(outputId);\n",
              "  const steps = outputElement.steps;\n",
              "\n",
              "  const next = steps.next(outputElement.lastPromiseValue);\n",
              "  return Promise.resolve(next.value.promise).then((value) => {\n",
              "    // Cache the last promise value to make it available to the next\n",
              "    // step of the generator.\n",
              "    outputElement.lastPromiseValue = value;\n",
              "    return next.value.response;\n",
              "  });\n",
              "}\n",
              "\n",
              "/**\n",
              " * Generator function which is called between each async step of the upload\n",
              " * process.\n",
              " * @param {string} inputId Element ID of the input file picker element.\n",
              " * @param {string} outputId Element ID of the output display.\n",
              " * @return {!Iterable<!Object>} Iterable of next steps.\n",
              " */\n",
              "function* uploadFilesStep(inputId, outputId) {\n",
              "  const inputElement = document.getElementById(inputId);\n",
              "  inputElement.disabled = false;\n",
              "\n",
              "  const outputElement = document.getElementById(outputId);\n",
              "  outputElement.innerHTML = '';\n",
              "\n",
              "  const pickedPromise = new Promise((resolve) => {\n",
              "    inputElement.addEventListener('change', (e) => {\n",
              "      resolve(e.target.files);\n",
              "    });\n",
              "  });\n",
              "\n",
              "  const cancel = document.createElement('button');\n",
              "  inputElement.parentElement.appendChild(cancel);\n",
              "  cancel.textContent = 'Cancel upload';\n",
              "  const cancelPromise = new Promise((resolve) => {\n",
              "    cancel.onclick = () => {\n",
              "      resolve(null);\n",
              "    };\n",
              "  });\n",
              "\n",
              "  // Wait for the user to pick the files.\n",
              "  const files = yield {\n",
              "    promise: Promise.race([pickedPromise, cancelPromise]),\n",
              "    response: {\n",
              "      action: 'starting',\n",
              "    }\n",
              "  };\n",
              "\n",
              "  cancel.remove();\n",
              "\n",
              "  // Disable the input element since further picks are not allowed.\n",
              "  inputElement.disabled = true;\n",
              "\n",
              "  if (!files) {\n",
              "    return {\n",
              "      response: {\n",
              "        action: 'complete',\n",
              "      }\n",
              "    };\n",
              "  }\n",
              "\n",
              "  for (const file of files) {\n",
              "    const li = document.createElement('li');\n",
              "    li.append(span(file.name, {fontWeight: 'bold'}));\n",
              "    li.append(span(\n",
              "        `(${file.type || 'n/a'}) - ${file.size} bytes, ` +\n",
              "        `last modified: ${\n",
              "            file.lastModifiedDate ? file.lastModifiedDate.toLocaleDateString() :\n",
              "                                    'n/a'} - `));\n",
              "    const percent = span('0% done');\n",
              "    li.appendChild(percent);\n",
              "\n",
              "    outputElement.appendChild(li);\n",
              "\n",
              "    const fileDataPromise = new Promise((resolve) => {\n",
              "      const reader = new FileReader();\n",
              "      reader.onload = (e) => {\n",
              "        resolve(e.target.result);\n",
              "      };\n",
              "      reader.readAsArrayBuffer(file);\n",
              "    });\n",
              "    // Wait for the data to be ready.\n",
              "    let fileData = yield {\n",
              "      promise: fileDataPromise,\n",
              "      response: {\n",
              "        action: 'continue',\n",
              "      }\n",
              "    };\n",
              "\n",
              "    // Use a chunked sending to avoid message size limits. See b/62115660.\n",
              "    let position = 0;\n",
              "    do {\n",
              "      const length = Math.min(fileData.byteLength - position, MAX_PAYLOAD_SIZE);\n",
              "      const chunk = new Uint8Array(fileData, position, length);\n",
              "      position += length;\n",
              "\n",
              "      const base64 = btoa(String.fromCharCode.apply(null, chunk));\n",
              "      yield {\n",
              "        response: {\n",
              "          action: 'append',\n",
              "          file: file.name,\n",
              "          data: base64,\n",
              "        },\n",
              "      };\n",
              "\n",
              "      let percentDone = fileData.byteLength === 0 ?\n",
              "          100 :\n",
              "          Math.round((position / fileData.byteLength) * 100);\n",
              "      percent.textContent = `${percentDone}% done`;\n",
              "\n",
              "    } while (position < fileData.byteLength);\n",
              "  }\n",
              "\n",
              "  // All done.\n",
              "  yield {\n",
              "    response: {\n",
              "      action: 'complete',\n",
              "    }\n",
              "  };\n",
              "}\n",
              "\n",
              "scope.google = scope.google || {};\n",
              "scope.google.colab = scope.google.colab || {};\n",
              "scope.google.colab._files = {\n",
              "  _uploadFiles,\n",
              "  _uploadFilesContinue,\n",
              "};\n",
              "})(self);\n",
              "</script> "
            ],
            "text/plain": [
              "<IPython.core.display.HTML object>"
            ]
          },
          "metadata": {},
          "output_type": "display_data"
        },
        {
          "ename": "KeyboardInterrupt",
          "evalue": "",
          "output_type": "error",
          "traceback": [
            "\u001b[0;31m---------------------------------------------------------------------------\u001b[0m",
            "\u001b[0;31mKeyboardInterrupt\u001b[0m                         Traceback (most recent call last)",
            "\u001b[0;32m<ipython-input-18-046b2ed574a5>\u001b[0m in \u001b[0;36m<cell line: 2>\u001b[0;34m()\u001b[0m\n\u001b[1;32m      1\u001b[0m \u001b[0;31m# @title\u001b[0m\u001b[0;34m\u001b[0m\u001b[0;34m\u001b[0m\u001b[0m\n\u001b[0;32m----> 2\u001b[0;31m \u001b[0muploaded\u001b[0m \u001b[0;34m=\u001b[0m \u001b[0mfiles\u001b[0m\u001b[0;34m.\u001b[0m\u001b[0mupload\u001b[0m\u001b[0;34m(\u001b[0m\u001b[0;34m)\u001b[0m\u001b[0;34m\u001b[0m\u001b[0;34m\u001b[0m\u001b[0m\n\u001b[0m\u001b[1;32m      3\u001b[0m \u001b[0;34m\u001b[0m\u001b[0m\n\u001b[1;32m      4\u001b[0m \u001b[0;31m# Función para procesar el archivo subido\u001b[0m\u001b[0;34m\u001b[0m\u001b[0;34m\u001b[0m\u001b[0m\n\u001b[1;32m      5\u001b[0m \u001b[0;32mdef\u001b[0m \u001b[0mprocess_uploaded_file\u001b[0m\u001b[0;34m(\u001b[0m\u001b[0muploaded\u001b[0m\u001b[0;34m)\u001b[0m\u001b[0;34m:\u001b[0m\u001b[0;34m\u001b[0m\u001b[0;34m\u001b[0m\u001b[0m\n",
            "\u001b[0;32m/usr/local/lib/python3.10/dist-packages/google/colab/files.py\u001b[0m in \u001b[0;36mupload\u001b[0;34m()\u001b[0m\n\u001b[1;32m     67\u001b[0m   \"\"\"\n\u001b[1;32m     68\u001b[0m \u001b[0;34m\u001b[0m\u001b[0m\n\u001b[0;32m---> 69\u001b[0;31m   \u001b[0muploaded_files\u001b[0m \u001b[0;34m=\u001b[0m \u001b[0m_upload_files\u001b[0m\u001b[0;34m(\u001b[0m\u001b[0mmultiple\u001b[0m\u001b[0;34m=\u001b[0m\u001b[0;32mTrue\u001b[0m\u001b[0;34m)\u001b[0m\u001b[0;34m\u001b[0m\u001b[0;34m\u001b[0m\u001b[0m\n\u001b[0m\u001b[1;32m     70\u001b[0m   \u001b[0;31m# Mapping from original filename to filename as saved locally.\u001b[0m\u001b[0;34m\u001b[0m\u001b[0;34m\u001b[0m\u001b[0m\n\u001b[1;32m     71\u001b[0m   \u001b[0mlocal_filenames\u001b[0m \u001b[0;34m=\u001b[0m \u001b[0mdict\u001b[0m\u001b[0;34m(\u001b[0m\u001b[0;34m)\u001b[0m\u001b[0;34m\u001b[0m\u001b[0;34m\u001b[0m\u001b[0m\n",
            "\u001b[0;32m/usr/local/lib/python3.10/dist-packages/google/colab/files.py\u001b[0m in \u001b[0;36m_upload_files\u001b[0;34m(multiple)\u001b[0m\n\u001b[1;32m    154\u001b[0m \u001b[0;34m\u001b[0m\u001b[0m\n\u001b[1;32m    155\u001b[0m   \u001b[0;31m# First result is always an indication that the file picker has completed.\u001b[0m\u001b[0;34m\u001b[0m\u001b[0;34m\u001b[0m\u001b[0m\n\u001b[0;32m--> 156\u001b[0;31m   result = _output.eval_js(\n\u001b[0m\u001b[1;32m    157\u001b[0m       'google.colab._files._uploadFiles(\"{input_id}\", \"{output_id}\")'.format(\n\u001b[1;32m    158\u001b[0m           \u001b[0minput_id\u001b[0m\u001b[0;34m=\u001b[0m\u001b[0minput_id\u001b[0m\u001b[0;34m,\u001b[0m \u001b[0moutput_id\u001b[0m\u001b[0;34m=\u001b[0m\u001b[0moutput_id\u001b[0m\u001b[0;34m\u001b[0m\u001b[0;34m\u001b[0m\u001b[0m\n",
            "\u001b[0;32m/usr/local/lib/python3.10/dist-packages/google/colab/output/_js.py\u001b[0m in \u001b[0;36meval_js\u001b[0;34m(script, ignore_result, timeout_sec)\u001b[0m\n\u001b[1;32m     38\u001b[0m   \u001b[0;32mif\u001b[0m \u001b[0mignore_result\u001b[0m\u001b[0;34m:\u001b[0m\u001b[0;34m\u001b[0m\u001b[0;34m\u001b[0m\u001b[0m\n\u001b[1;32m     39\u001b[0m     \u001b[0;32mreturn\u001b[0m\u001b[0;34m\u001b[0m\u001b[0;34m\u001b[0m\u001b[0m\n\u001b[0;32m---> 40\u001b[0;31m   \u001b[0;32mreturn\u001b[0m \u001b[0m_message\u001b[0m\u001b[0;34m.\u001b[0m\u001b[0mread_reply_from_input\u001b[0m\u001b[0;34m(\u001b[0m\u001b[0mrequest_id\u001b[0m\u001b[0;34m,\u001b[0m \u001b[0mtimeout_sec\u001b[0m\u001b[0;34m)\u001b[0m\u001b[0;34m\u001b[0m\u001b[0;34m\u001b[0m\u001b[0m\n\u001b[0m\u001b[1;32m     41\u001b[0m \u001b[0;34m\u001b[0m\u001b[0m\n\u001b[1;32m     42\u001b[0m \u001b[0;34m\u001b[0m\u001b[0m\n",
            "\u001b[0;32m/usr/local/lib/python3.10/dist-packages/google/colab/_message.py\u001b[0m in \u001b[0;36mread_reply_from_input\u001b[0;34m(message_id, timeout_sec)\u001b[0m\n\u001b[1;32m     94\u001b[0m     \u001b[0mreply\u001b[0m \u001b[0;34m=\u001b[0m \u001b[0m_read_next_input_message\u001b[0m\u001b[0;34m(\u001b[0m\u001b[0;34m)\u001b[0m\u001b[0;34m\u001b[0m\u001b[0;34m\u001b[0m\u001b[0m\n\u001b[1;32m     95\u001b[0m     \u001b[0;32mif\u001b[0m \u001b[0mreply\u001b[0m \u001b[0;34m==\u001b[0m \u001b[0m_NOT_READY\u001b[0m \u001b[0;32mor\u001b[0m \u001b[0;32mnot\u001b[0m \u001b[0misinstance\u001b[0m\u001b[0;34m(\u001b[0m\u001b[0mreply\u001b[0m\u001b[0;34m,\u001b[0m \u001b[0mdict\u001b[0m\u001b[0;34m)\u001b[0m\u001b[0;34m:\u001b[0m\u001b[0;34m\u001b[0m\u001b[0;34m\u001b[0m\u001b[0m\n\u001b[0;32m---> 96\u001b[0;31m       \u001b[0mtime\u001b[0m\u001b[0;34m.\u001b[0m\u001b[0msleep\u001b[0m\u001b[0;34m(\u001b[0m\u001b[0;36m0.025\u001b[0m\u001b[0;34m)\u001b[0m\u001b[0;34m\u001b[0m\u001b[0;34m\u001b[0m\u001b[0m\n\u001b[0m\u001b[1;32m     97\u001b[0m       \u001b[0;32mcontinue\u001b[0m\u001b[0;34m\u001b[0m\u001b[0;34m\u001b[0m\u001b[0m\n\u001b[1;32m     98\u001b[0m     if (\n",
            "\u001b[0;31mKeyboardInterrupt\u001b[0m: "
          ]
        }
      ],
      "source": [
        "# @title\n",
        "uploaded = files.upload()\n",
        "\n",
        "# Función para procesar el archivo subido\n",
        "def process_uploaded_file(uploaded):\n",
        "    for filename, content in uploaded.items():\n",
        "        if filename.endswith('.csv'):\n",
        "            df = pd.read_csv(BytesIO(content))\n",
        "        elif filename.endswith(('.xls', '.xlsx')):\n",
        "            df = pd.read_excel(BytesIO(content))\n",
        "        else:\n",
        "            raise ValueError(\"El archivo proporcionado no es ni CSV ni Excel.\")\n",
        "        return df\n",
        "\n",
        "df = process_uploaded_file(uploaded)"
      ]
    },
    {
      "cell_type": "markdown",
      "metadata": {
        "id": "egl-FNF4Ieg4"
      },
      "source": [
        "# PASO 4: GENERAR POLIGONO"
      ]
    },
    {
      "cell_type": "code",
      "execution_count": null,
      "metadata": {
        "colab": {
          "background_save": true,
          "base_uri": "https://localhost:8080/",
          "height": 490
        },
        "id": "I9DTH_TNuxlQ",
        "outputId": "99f619a8-48eb-4ba6-f4c1-da59eb7aae19"
      },
      "outputs": [
        {
          "name": "stdout",
          "output_type": "stream",
          "text": [
            "Estadísticas del polígono en UTM:\n",
            "Área: 14523.5 m² (1.45235 hectáreas)\n",
            "Perímetro: 548.0820660560939 m\n",
            "Límites: Mínimo X (Este): 554442.0 m, Máximo X (Este): 554607.0 m\n",
            "Mínimo Y (Norte): 1311610.0 m, Máximo Y (Norte): 1311766.0 m\n",
            "Centroide: Este 554526.8032499054, Norte 1311699.144076841\n",
            "Por favor, ingrese un nombre para el archivo GeoJSON (sin extensión):\n"
          ]
        }
      ],
      "source": [
        "# Define la proyección UTM Zona 16N\n",
        "utm_zone_16n = \"EPSG:32616\"\n",
        "\n",
        "# Procesa los datos para crear el GeoDataFrame\n",
        "gdf_points = gpd.GeoDataFrame(\n",
        "    df,\n",
        "    geometry=gpd.points_from_xy(df.Easting, df.Northing),\n",
        "    crs=utm_zone_16n\n",
        ")\n",
        "\n",
        "# Genera el polígono a partir de los puntos\n",
        "polygon = Polygon([(point.x, point.y) for point in gdf_points.geometry])\n",
        "\n",
        "# Crea un GeoDataFrame para el polígono\n",
        "gdf_polygon = gpd.GeoDataFrame(index=[0], crs=utm_zone_16n, geometry=[polygon])\n",
        "\n",
        "# Calcula estadísticas para el polígono UTM\n",
        "area_sq_meters = polygon.area\n",
        "area_hectares = area_sq_meters / 10000\n",
        "perimeter_meters = polygon.length\n",
        "minx, miny, maxx, maxy = polygon.bounds\n",
        "centroid = polygon.centroid\n",
        "\n",
        "# Agrega estadísticas al GeoDataFrame del polígono\n",
        "gdf_polygon.at[0, 'Area_sq_m'] = area_sq_meters\n",
        "gdf_polygon.at[0, 'Area_ha'] = area_hectares\n",
        "gdf_polygon.at[0, 'Perimeter_m'] = perimeter_meters\n",
        "gdf_polygon.at[0, 'Min_X'] = minx\n",
        "gdf_polygon.at[0, 'Max_X'] = maxx\n",
        "gdf_polygon.at[0, 'Min_Y'] = miny\n",
        "gdf_polygon.at[0, 'Max_Y'] = maxy\n",
        "gdf_polygon.at[0, 'Centroid_X'] = centroid.x\n",
        "gdf_polygon.at[0, 'Centroid_Y'] = centroid.y\n",
        "\n",
        "# Imprimir estadísticas\n",
        "print(\"Estadísticas del polígono en UTM:\")\n",
        "print(f\"Área: {area_sq_meters} m² ({area_hectares} hectáreas)\")\n",
        "print(f\"Perímetro: {perimeter_meters} m\")\n",
        "print(f\"Límites: Mínimo X (Este): {minx} m, Máximo X (Este): {maxx} m\")\n",
        "print(f\"Mínimo Y (Norte): {miny} m, Máximo Y (Norte): {maxy} m\")\n",
        "print(f\"Centroide: Este {centroid.x}, Norte {centroid.y}\")\n",
        "\n",
        "# Combina puntos y polígonos\n",
        "gdf_combined = pd.concat([gdf_points, gdf_polygon], ignore_index=True)\n",
        "\n",
        "# Convertir el GeoDataFrame UTM a WGS84 para la exportación a GeoJSON\n",
        "gdf_combined_wgs84 = gdf_combined.to_crs(epsg=4326)\n",
        "\n",
        "# Solicitar al usuario que nombre el archivo GeoJSON\n",
        "print(\"Por favor, ingrese un nombre para el archivo GeoJSON (sin extensión):\")\n",
        "output_filename = input() + '.geojson'\n",
        "\n",
        "# Verificar que el usuario ha ingresado un nombre de archivo\n",
        "if not output_filename.strip('.geojson'):\n",
        "    output_filename = \"output.geojson\"\n",
        "\n",
        "# Exporta a GeoJSON\n",
        "gdf_combined_wgs84.to_file(output_filename, driver='GeoJSON')\n",
        "\n",
        "# Proporciona un enlace para descargar el archivo GeoJSON generado\n",
        "files.download(output_filename)\n",
        "\n",
        "# Informar al usuario sobre la descarga\n",
        "print(f\"Se está generando el archivo GeoJSON: {output_filename} para su descarga.\")\n",
        "print(\"El archivo GeoJSON se descargará en la carpeta de descargas predeterminada de su navegador o en la ubicación que haya especificado en la configuración de descargas de su navegador.\")\n",
        "\n"
      ]
    }
  ],
  "metadata": {
    "colab": {
      "collapsed_sections": [
        "XB9tQCFdHCO-",
        "nY30BkbkHvXu",
        "egl-FNF4Ieg4"
      ],
      "toc_visible": true,
      "provenance": [],
      "authorship_tag": "ABX9TyN1Xi3tm9/6s5zhLhlqMf22",
      "include_colab_link": true
    },
    "kernelspec": {
      "display_name": "Python 3",
      "name": "python3"
    },
    "language_info": {
      "name": "python"
    }
  },
  "nbformat": 4,
  "nbformat_minor": 0
}